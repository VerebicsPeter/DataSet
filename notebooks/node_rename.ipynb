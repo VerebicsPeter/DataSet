{
 "cells": [
  {
   "cell_type": "code",
   "execution_count": 16,
   "metadata": {},
   "outputs": [],
   "source": [
    "source = \"\"\"\n",
    "from my_module import thingy\n",
    "from pprint import pprint\n",
    "\n",
    "GLOBAL = \"asd\"\n",
    "\n",
    "x = GLOBAL\n",
    "\n",
    "def do_thingy(*args, do_quickly = True):\n",
    "    return thingy(*args, do_quickly)\n",
    "\n",
    "def foo(p):\n",
    "    a = 1\n",
    "    print(a)\n",
    "    x = 2\n",
    "    print(x)\n",
    "    p.x = x\n",
    "\n",
    "def bar(*args, **kwargs):\n",
    "    print(\"before do_thingy!\")\n",
    "    result = do_thingy(*args, **kwargs)\n",
    "    print(\"after do_thingy!\")\n",
    "    return result\n",
    "\n",
    "if __name__ == \"__main__\":\n",
    "    my_obj = {\"x\": \"hi, mom!\"}\n",
    "    foo(my_obj)\n",
    "    hello_world = \"hello world\" \n",
    "    # cursed thing\n",
    "    hello_world, pprint = pprint, hello_world\n",
    "    hello_world(pprint)\n",
    "\n",
    "\"\"\""
   ]
  },
  {
   "cell_type": "code",
   "execution_count": 17,
   "metadata": {},
   "outputs": [],
   "source": [
    "import ast\n",
    "\n",
    "\n",
    "class NameVisitor(ast.NodeVisitor):\n",
    "\n",
    "    def get_names(self, node: ast.AST, id: str = None) -> list[ast.Name]:\n",
    "        self._id = id\n",
    "        self._names = []\n",
    "        self.visit(node)\n",
    "        return self._names\n",
    "\n",
    "\n",
    "    def visit_Name(self, node: ast.Name):\n",
    "        match self._id:\n",
    "            case None:\n",
    "                self._names.append(node)\n",
    "            case id:\n",
    "                if id != node.id: return\n",
    "                self._names.append(node)\n",
    "\n",
    "\n",
    "class SingleAssignVisitor(ast.NodeVisitor):\n",
    "    \n",
    "    def get_names(self, node: ast.AST) -> list[ast.Name]:\n",
    "        self._names = []\n",
    "        self.visit(node)\n",
    "        return self._names\n",
    "\n",
    "    def visit_Assign(self, node: ast.Assign):\n",
    "        match node:\n",
    "            case ast.Assign(targets=[ast.Name(ctx=ast.Store()) as name]):\n",
    "                self._names.append(name)\n",
    "\n",
    "\n",
    "def get_stored_ids(node: ast.AST):\n",
    "    names = NameVisitor().get_names(node)\n",
    "    ctxs = {}\n",
    "    for name in names:\n",
    "        ctxs.setdefault(name.id, name.ctx)\n",
    "    return [ key for key in ctxs if isinstance(ctxs[key], ast.Store)]\n",
    "\n",
    "\n",
    "def get_stored_ids_strict(node: ast.AST):  # only names of single assingment targets\n",
    "    names = SingleAssignVisitor().get_names(node)\n",
    "    ctxs = {}\n",
    "    for name in names:\n",
    "        ctxs.setdefault(name.id, name.ctx)\n",
    "    return [ key for key in ctxs if isinstance(ctxs[key], ast.Store)]\n",
    "\n",
    "\n",
    "class VariableRenamer(ast.NodeTransformer):\n",
    "\n",
    "    def rename(self, node: ast.AST):\n",
    "        self._stored_ids = get_stored_ids_strict(node)\n",
    "        self.visit(node)\n",
    "    \n",
    "\n",
    "    def visit_Name(self, node: ast.Name):\n",
    "        if (node.id in self._stored_ids):\n",
    "            node.id = f\"new_{node.id}\"  # TODO: check if the name is available\n",
    "            return node\n",
    "        return node\n",
    "\n",
    "\n",
    "tree = ast.parse(source)"
   ]
  },
  {
   "cell_type": "code",
   "execution_count": 18,
   "metadata": {},
   "outputs": [
    {
     "name": "stdout",
     "output_type": "stream",
     "text": [
      "['GLOBAL', 'x', 'a', 'result', 'my_obj', 'hello_world']\n"
     ]
    }
   ],
   "source": [
    "print(get_stored_ids_strict(tree))"
   ]
  },
  {
   "cell_type": "code",
   "execution_count": 19,
   "metadata": {},
   "outputs": [
    {
     "name": "stdout",
     "output_type": "stream",
     "text": [
      "from my_module import thingy\n",
      "from pprint import pprint\n",
      "new_GLOBAL = 'asd'\n",
      "new_x = new_GLOBAL\n",
      "\n",
      "def do_thingy(*args, do_quickly=True):\n",
      "    return thingy(*args, do_quickly)\n",
      "\n",
      "def foo(p):\n",
      "    new_a = 1\n",
      "    print(new_a)\n",
      "    new_x = 2\n",
      "    print(new_x)\n",
      "    p.x = new_x\n",
      "\n",
      "def bar(*args, **kwargs):\n",
      "    print('before do_thingy!')\n",
      "    new_result = do_thingy(*args, **kwargs)\n",
      "    print('after do_thingy!')\n",
      "    return new_result\n",
      "if __name__ == '__main__':\n",
      "    new_my_obj = {'x': 'hi, mom!'}\n",
      "    foo(new_my_obj)\n",
      "    new_hello_world = 'hello world'\n",
      "    new_hello_world, pprint = (pprint, new_hello_world)\n",
      "    new_hello_world(pprint)\n"
     ]
    }
   ],
   "source": [
    "VariableRenamer().rename(tree)\n",
    "print(ast.unparse(tree))"
   ]
  },
  {
   "cell_type": "code",
   "execution_count": 20,
   "metadata": {},
   "outputs": [
    {
     "name": "stdout",
     "output_type": "stream",
     "text": [
      "Module(body=[Expr(value=Attribute(value=Name(id='my_obj', ctx=Load()), attr='my_attr', ctx=Load()))], type_ignores=[])\n",
      "Module(body=[ImportFrom(module='pprint', names=[alias(name='pprint', asname='pp')], level=0)], type_ignores=[])\n",
      "Module(body=[Assign(targets=[Name(id='x', ctx=Store())], value=Name(id='y', ctx=Load()))], type_ignores=[])\n",
      "Module(body=[Assign(targets=[Tuple(elts=[Name(id='x', ctx=Store()), Name(id='y', ctx=Store())], ctx=Store())], value=Tuple(elts=[Name(id='y', ctx=Load()), Name(id='x', ctx=Load())], ctx=Load()))], type_ignores=[])\n"
     ]
    }
   ],
   "source": [
    "print(ast.dump(ast.parse(\"my_obj.my_attr\")))  # NOTE: attributes are not a name nodes!\n",
    "# TODO: things needed for `VariableRenamer` implementation with `get_stored_ids` instead of `get_stored_ids_strict`\n",
    "print(ast.dump(ast.parse(\"from pprint import pprint as pp\")))  # TODO: exclude used and unused import names from `get_stored_ids`\n",
    "print(ast.dump(ast.parse(\"x = y\")))\n",
    "print(ast.dump(ast.parse(\"x, y = y, x\")))  # TODO: ignore multiple assigns like this"
   ]
  }
 ],
 "metadata": {
  "kernelspec": {
   "display_name": "dataset",
   "language": "python",
   "name": "python3"
  },
  "language_info": {
   "codemirror_mode": {
    "name": "ipython",
    "version": 3
   },
   "file_extension": ".py",
   "mimetype": "text/x-python",
   "name": "python",
   "nbconvert_exporter": "python",
   "pygments_lexer": "ipython3",
   "version": "3.11.2"
  }
 },
 "nbformat": 4,
 "nbformat_minor": 2
}
