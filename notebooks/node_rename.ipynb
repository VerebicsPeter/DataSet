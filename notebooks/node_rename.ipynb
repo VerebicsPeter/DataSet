{
 "cells": [
  {
   "cell_type": "code",
   "execution_count": 1,
   "metadata": {},
   "outputs": [],
   "source": [
    "# NOTE:\n",
    "# Renaming variables:\n",
    "#   - create a dict of ids in a namespace with symtable\n",
    "#                              (namespaces being: global, class, def)\n",
    "# with df traversal: rename def locals > rename class locals > rename globals\n",
    "\n",
    "source = \"\"\"\n",
    "import pprint as pp\n",
    "\n",
    "x = 1\n",
    "\n",
    "def foo(param):\n",
    "  print(x)\n",
    "  x = 2\n",
    "  param.x = x\n",
    "\n",
    "class Bar:\n",
    "  x = 3\n",
    "\n",
    "\"\"\"\n"
   ]
  },
  {
   "cell_type": "code",
   "execution_count": 2,
   "metadata": {},
   "outputs": [
    {
     "name": "stdout",
     "output_type": "stream",
     "text": [
      "<SymbolTable for module <string>>\n",
      "module\n",
      "[<symbol 'pp'>, <symbol 'x'>, <symbol 'foo'>, <symbol 'Bar'>]\n",
      "[<Function SymbolTable for foo in <string>>, <Class SymbolTable for Bar in <string>>]\n",
      "False\n",
      "True\n",
      "[<symbol 'param'>, <symbol 'print'>, <symbol 'x'>]\n",
      "True\n",
      "False\n"
     ]
    }
   ],
   "source": [
    "import symtable\n",
    "\n",
    "import pprint as pp\n",
    "\n",
    "table = symtable.symtable(source, filename='<string>', compile_type='exec')\n",
    "print(table)\n",
    "print(table.get_type())\n",
    "symbols = table.get_symbols()\n",
    "print(symbols)\n",
    "\n",
    "children = table.get_children()\n",
    "print(children)\n",
    "\n",
    "print(symbols[0].is_referenced())\n",
    "print(symbols[1].is_local())\n",
    "\n",
    "fun_children = children[0].get_symbols()\n",
    "print(fun_children)\n",
    "print(fun_children[0].is_parameter())\n",
    "print(fun_children[1].is_local())"
   ]
  },
  {
   "cell_type": "code",
   "execution_count": 3,
   "metadata": {},
   "outputs": [
    {
     "name": "stdout",
     "output_type": "stream",
     "text": [
      "Module(body=[Expr(value=Attribute(value=Name(id='my_obj', ctx=Load()), attr='my_attr', ctx=Load()))], type_ignores=[])\n"
     ]
    }
   ],
   "source": [
    "import ast\n",
    "print(ast.dump(ast.parse(\"my_obj.my_attr\")))"
   ]
  },
  {
   "cell_type": "code",
   "execution_count": 1,
   "metadata": {},
   "outputs": [
    {
     "name": "stdout",
     "output_type": "stream",
     "text": [
      "hello\n",
      "world\n"
     ]
    }
   ],
   "source": [
    "# cursed\n",
    "print(\"hello\")\n",
    "ppp = print\n",
    "print = \"world\"\n",
    "ppp(print)"
   ]
  }
 ],
 "metadata": {
  "kernelspec": {
   "display_name": "dataset",
   "language": "python",
   "name": "python3"
  },
  "language_info": {
   "codemirror_mode": {
    "name": "ipython",
    "version": 3
   },
   "file_extension": ".py",
   "mimetype": "text/x-python",
   "name": "python",
   "nbconvert_exporter": "python",
   "pygments_lexer": "ipython3",
   "version": "3.11.2"
  }
 },
 "nbformat": 4,
 "nbformat_minor": 2
}
