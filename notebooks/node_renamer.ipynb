{
 "cells": [
  {
   "cell_type": "code",
   "execution_count": 1,
   "metadata": {},
   "outputs": [
    {
     "name": "stdout",
     "output_type": "stream",
     "text": [
      "12\n"
     ]
    }
   ],
   "source": [
    "# NOTE:\n",
    "# Renaming variables:\n",
    "#   - create a dict for the id - scope pairs\n",
    "#   - visit every name-node w/ dfs\n",
    "#       - if a name-node's id is not in the dict\n",
    "#         add it with it's scope\n",
    "#        (obtained with parent_context method)\n",
    "#       - if a name-node's id is already in the dict skip\n",
    "#   - visit every key-value pair in the dict\n",
    "#       - rename every mention of an id inside the scope added for it\n"
   ]
  }
 ],
 "metadata": {
  "kernelspec": {
   "display_name": "dataset",
   "language": "python",
   "name": "python3"
  },
  "language_info": {
   "codemirror_mode": {
    "name": "ipython",
    "version": 3
   },
   "file_extension": ".py",
   "mimetype": "text/x-python",
   "name": "python",
   "nbconvert_exporter": "python",
   "pygments_lexer": "ipython3",
   "version": "3.11.5"
  }
 },
 "nbformat": 4,
 "nbformat_minor": 2
}
