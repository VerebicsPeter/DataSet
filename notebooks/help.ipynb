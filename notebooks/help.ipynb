{
 "cells": [
  {
   "cell_type": "code",
   "execution_count": null,
   "metadata": {},
   "outputs": [],
   "source": [
    "import ast\n",
    "\n",
    "from ast import AST, stmt, expr, Load, Store\n",
    "\n",
    "from ast import Assign, For, Name, List\n",
    "\n",
    "import pprint\n",
    "\n",
    "pp = pprint.PrettyPrinter(indent=2)"
   ]
  },
  {
   "cell_type": "code",
   "execution_count": null,
   "metadata": {},
   "outputs": [],
   "source": [
    "source = \"\"\"[]\"\"\"\n",
    "\n",
    "root = ast.parse(source)\n",
    "\n",
    "print(ast.dump(root, indent=2, ))"
   ]
  },
  {
   "cell_type": "markdown",
   "metadata": {},
   "source": [
    "## Advanced pattern matching"
   ]
  },
  {
   "cell_type": "code",
   "execution_count": null,
   "metadata": {},
   "outputs": [],
   "source": [
    "def match_assign_for(root: AST):\n",
    "    \n",
    "    \n",
    "    def match_pair(a:AST,b:AST):\n",
    "        match a:\n",
    "            case Assign(\n",
    "                targets=[Name(id as name, ctx=Store())], value=List(elts=[], ctx=Load())\n",
    "            ):\n",
    "                print(\"Name:\", name)\n",
    "            case _:\n",
    "                return False\n",
    "        match b:\n",
    "            case For():\n",
    "                pass\n",
    "            case _:\n",
    "                return False\n",
    "        return True\n",
    "    \n",
    "    \n",
    "    def extract(body: list[stmt]):\n",
    "        extracted = []\n",
    "        for a, b in zip(body, body[1:]):\n",
    "            if match_pair(a, b):\n",
    "                extracted.append((a,b))\n",
    "        return extracted\n",
    "    \n",
    "    \n",
    "    match root:\n",
    "        # match body with at least 2 elements\n",
    "        case AST(body=[_, _, *_] as body):\n",
    "            print(\"\\nMatched\\n\")\n",
    "            pairs = extract(body)\n",
    "            pp.pprint(pairs)\n",
    "        case _:\n",
    "            print(\"\\nNOT Matched\\n\")\n",
    "\n",
    "\n",
    "match_assign_for(root)"
   ]
  },
  {
   "cell_type": "code",
   "execution_count": null,
   "metadata": {},
   "outputs": [],
   "source": [
    "class Transformer(ast.NodeTransformer):\n",
    "    def generic_visit(self, node):\n",
    "        print (type(node).__name__)\n",
    "        super().generic_visit(node)\n",
    "        return node\n",
    "\n",
    "print(ast.dump(root, indent=2))\n",
    "print(\"-\"*100)\n",
    "t = Transformer()\n",
    "t.visit(root)\n",
    "print(\"-\"*100)\n",
    "print(ast.dump(root, indent=2))\n"
   ]
  },
  {
   "cell_type": "markdown",
   "metadata": {},
   "source": [
    "## The Brog (Monostate) pattern"
   ]
  },
  {
   "cell_type": "code",
   "execution_count": null,
   "metadata": {},
   "outputs": [],
   "source": [
    "class Brog:\n",
    "    __internal_state = {}\n",
    "    \n",
    "    def __init__(self):\n",
    "        self.__dict__ = self.__internal_state\n",
    "\n",
    "class Person(Brog):\n",
    "    def __init__(self) -> None:\n",
    "        super().__init__()\n",
    "        self.__init__state()\n",
    "    \n",
    "    def __init__state(self):\n",
    "        if not hasattr(self, \"name\"): self.name = \"Sanyi\"\n",
    "        if not hasattr(self, \"age\" ): self.age  = 69\n",
    "    \n",
    "    def get_dict(self): return self.__dict__\n",
    "    \n",
    "person = Person()\n",
    "\n",
    "print(person.get_dict())\n",
    "\n",
    "print(person.name)\n",
    "\n",
    "person.name = \"Pisti\"\n",
    "person.age  = 42\n",
    "\n",
    "print(person.name)\n"
   ]
  },
  {
   "cell_type": "code",
   "execution_count": null,
   "metadata": {},
   "outputs": [],
   "source": [
    "person = Person()\n",
    "\n",
    "print(person.get_dict())"
   ]
  }
 ],
 "metadata": {
  "kernelspec": {
   "display_name": ".venv",
   "language": "python",
   "name": "python3"
  },
  "language_info": {
   "codemirror_mode": {
    "name": "ipython",
    "version": 3
   },
   "file_extension": ".py",
   "mimetype": "text/x-python",
   "name": "python",
   "nbconvert_exporter": "python",
   "pygments_lexer": "ipython3",
   "version": "3.11.2"
  }
 },
 "nbformat": 4,
 "nbformat_minor": 2
}
